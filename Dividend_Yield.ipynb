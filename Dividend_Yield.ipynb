{
  "nbformat": 4,
  "nbformat_minor": 0,
  "metadata": {
    "colab": {
      "provenance": []
    },
    "kernelspec": {
      "name": "python3",
      "display_name": "Python 3"
    },
    "language_info": {
      "name": "python"
    }
  },
  "cells": [
    {
      "cell_type": "markdown",
      "source": [
        "<img src=\"https://tradingcomdados.com/images/logotipo/logotipo-trading-com-dados.svg\" width=\"300\" align=\"left\"/>"
      ],
      "metadata": {
        "id": "8YPnkifnLNZu"
      }
    },
    {
      "cell_type": "markdown",
      "source": [
        "---"
      ],
      "metadata": {
        "id": "OU1y6H9QdRjP"
      }
    },
    {
      "cell_type": "markdown",
      "source": [
        "# **Comparando Dividend Yelds ao longo do tempo**"
      ],
      "metadata": {
        "id": "jSKpUxHBdUCI"
      }
    },
    {
      "cell_type": "markdown",
      "source": [
        "## ***1. Instalando e importando bibliotecas***"
      ],
      "metadata": {
        "id": "DpMSv8WxdivG"
      }
    },
    {
      "cell_type": "code",
      "source": [
        "!pip install yfinance --quiet\n",
        "!pip install vectorbt --quiet"
      ],
      "metadata": {
        "id": "Lhrgoab_LUGc"
      },
      "execution_count": 1,
      "outputs": []
    },
    {
      "cell_type": "code",
      "source": [
        "import vectorbt as vbt\n",
        "import pandas as pd\n",
        "import yfinance as yf"
      ],
      "metadata": {
        "id": "q4P63XhFLWA_"
      },
      "execution_count": 2,
      "outputs": []
    },
    {
      "cell_type": "markdown",
      "source": [
        "## ***2. Definir ações (papéis)***"
      ],
      "metadata": {
        "id": "wekWlmW3d5yQ"
      }
    },
    {
      "cell_type": "code",
      "source": [
        "tickers = ['BBAS3.SA', 'BBDC4.SA', 'ITUB4.SA', 'SANB11.SA', 'ABCB4.SA', 'BPAC11.SA', 'BRSR6.SA', 'BPAN4.SA']"
      ],
      "metadata": {
        "id": "nCqjMRITLXJO"
      },
      "execution_count": null,
      "outputs": []
    },
    {
      "cell_type": "markdown",
      "source": [
        "## **3. Extraindo dados das ações**"
      ],
      "metadata": {
        "id": "ZPCrCrAFeGaj"
      }
    },
    {
      "cell_type": "code",
      "source": [
        "div = vbt.YFData.download(tickers, start = '2008-01-01').get('Dividends')"
      ],
      "metadata": {
        "id": "lpRjUraDLbQu"
      },
      "execution_count": null,
      "outputs": []
    },
    {
      "cell_type": "code",
      "source": [
        "close = yf.download(tickers, start='2008-01-01')['Close']"
      ],
      "metadata": {
        "id": "lr1gMTSXQZW3"
      },
      "execution_count": null,
      "outputs": []
    },
    {
      "cell_type": "code",
      "source": [
        "div.index = pd.to_datetime(div.index.date)\n",
        "close.index = pd.to_datetime(close.index.date)"
      ],
      "metadata": {
        "id": "Vx7NvqdebOF1"
      },
      "execution_count": null,
      "outputs": []
    },
    {
      "cell_type": "code",
      "source": [
        "div_12m = div.rolling('365D').sum()"
      ],
      "metadata": {
        "id": "NMHx_kCQbuu_"
      },
      "execution_count": null,
      "outputs": []
    },
    {
      "cell_type": "code",
      "source": [
        "div_12m.tail()"
      ],
      "metadata": {
        "id": "9Uikd108bu2-"
      },
      "execution_count": null,
      "outputs": []
    },
    {
      "cell_type": "code",
      "source": [
        "div_12m = div_12m.reindex(sorted(div_12m.columns), axis=1)\n",
        "close = close.reindex(sorted(close.columns), axis=1)"
      ],
      "metadata": {
        "id": "puLVP38pbu-m"
      },
      "execution_count": null,
      "outputs": []
    },
    {
      "cell_type": "code",
      "source": [
        "dy_12m = (div_12m / close) * 100"
      ],
      "metadata": {
        "id": "ouqY8_t-bvFi"
      },
      "execution_count": null,
      "outputs": []
    },
    {
      "cell_type": "code",
      "source": [
        "dy_12m"
      ],
      "metadata": {
        "id": "xGL3EBiBbvMR"
      },
      "execution_count": null,
      "outputs": []
    },
    {
      "cell_type": "code",
      "source": [
        "dy_12m.vbt.plot(width=1000,\n",
        "                height=500).show()"
      ],
      "metadata": {
        "id": "0GPSusX6cg5w"
      },
      "execution_count": null,
      "outputs": []
    },
    {
      "cell_type": "code",
      "source": [],
      "metadata": {
        "id": "Q9pt5NLTctrh"
      },
      "execution_count": null,
      "outputs": []
    }
  ]
}